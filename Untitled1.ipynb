{
  "nbformat": 4,
  "nbformat_minor": 0,
  "metadata": {
    "colab": {
      "name": "Untitled1.ipynb",
      "provenance": []
    },
    "kernelspec": {
      "name": "python3",
      "display_name": "Python 3"
    },
    "language_info": {
      "name": "python"
    }
  },
  "cells": [
    {
      "cell_type": "code",
      "metadata": {
        "colab": {
          "base_uri": "https://localhost:8080/"
        },
        "id": "W43bloBCUIwk",
        "outputId": "708481b3-5a72-453e-a269-b80d6b8c2cf0"
      },
      "source": [
        "play1 = 'Ruud Gullit'\n",
        "\n",
        "play2 = 'Marco van Basten'\n",
        "\n",
        "goal_1 =  32\n",
        "goal_2 = 54\n",
        "\n",
        "scorers= play1  + str(goal_1), play2 + str(goal_2)\n",
        "print(scorers)\n",
        "\n",
        "report = (play1 + 'scored in the ' + str(goal_1) + 'nd minute' ), (play2 + 'scored in the ' + str(goal_2) + 'th minute')\n",
        "print(report)\n",
        "\n",
        "player = 'Gerald Vanenburg'\n",
        "x = player.find(\"Gerald\")\n",
        "print(x)\n",
        "\n",
        "player = 'Gerald Vanenburg'\n",
        "first_name= (player[0:6])\n",
        "print(first_name)\n",
        "\n",
        "player = 'Gerald Vanenburg'\n",
        "x = player.find(\"Vanenburg\")\n",
        "print(x)\n",
        "\n",
        "player = 'Gerald Vanenburg'\n",
        "last_name_len = (player[7:16])\n",
        "print(last_name_len)\n",
        "print(len(last_name_len))\n",
        "\n",
        "player = 'Gerald Vanenburg'\n",
        "first_name= (player[0:1])\n",
        "print(first_name + '.'+ last_name_len)\n",
        "\n",
        "player = 'Gerald Vanenburg'\n",
        "first_name= (player[0:6])\n",
        "\n",
        "player = 'Gerald Vanenburg'\n",
        "first_name= (player[0:6])\n",
        "print(((first_name + '! ')*5) + (first_name + '!'))\n",
        "\n",
        "good_chant = (first_name + '! ') != (first_name + '!')\n",
        "print(good_chant)\n",
        "\n",
        "\n",
        "\n",
        "\n"
      ],
      "execution_count": 9,
      "outputs": [
        {
          "output_type": "stream",
          "text": [
            "('Ruud Gullit32', 'Marco van Basten54')\n",
            "('Ruud Gullitscored in the 32nd minute', 'Marco van Bastenscored in the 54th minute')\n",
            "0\n",
            "Gerald\n",
            "7\n",
            "Vanenburg\n",
            "9\n",
            "G.Vanenburg\n",
            "Gerald! Gerald! Gerald! Gerald! Gerald! Gerald!\n",
            "True\n"
          ],
          "name": "stdout"
        }
      ]
    }
  ]
}